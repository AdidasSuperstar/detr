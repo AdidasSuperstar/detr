{
  "nbformat": 4,
  "nbformat_minor": 0,
  "metadata": {
    "kernelspec": {
      "name": "pytorchenv",
      "language": "python",
      "display_name": "Pytorch env"
    },
    "language_info": {
      "codemirror_mode": {
        "name": "ipython",
        "version": 2
      },
      "file_extension": ".py",
      "mimetype": "text/x-python",
      "name": "python",
      "nbconvert_exporter": "python",
      "pygments_lexer": "ipython2",
      "version": "2.7.6"
    },
    "colab": {
      "name": "Object detection DETR - sugar dataset.ipynb",
      "provenance": [],
      "collapsed_sections": [],
      "include_colab_link": true
    },
    "accelerator": "GPU",
    "widgets": {
      "application/vnd.jupyter.widget-state+json": {
        "5877e2d178e54b49afd1f2272c16bccc": {
          "model_module": "@jupyter-widgets/controls",
          "model_name": "HBoxModel",
          "state": {
            "_view_name": "HBoxView",
            "_dom_classes": [],
            "_model_name": "HBoxModel",
            "_view_module": "@jupyter-widgets/controls",
            "_model_module_version": "1.5.0",
            "_view_count": null,
            "_view_module_version": "1.5.0",
            "box_style": "",
            "layout": "IPY_MODEL_d2093b8f81764945922302d7b191a24c",
            "_model_module": "@jupyter-widgets/controls",
            "children": [
              "IPY_MODEL_91cfcde16f8e45edbf9e510ffb80d922",
              "IPY_MODEL_500de7d88f3a49dab661783a9efc4bea"
            ]
          }
        },
        "d2093b8f81764945922302d7b191a24c": {
          "model_module": "@jupyter-widgets/base",
          "model_name": "LayoutModel",
          "state": {
            "_view_name": "LayoutView",
            "grid_template_rows": null,
            "right": null,
            "justify_content": null,
            "_view_module": "@jupyter-widgets/base",
            "overflow": null,
            "_model_module_version": "1.2.0",
            "_view_count": null,
            "flex_flow": null,
            "width": null,
            "min_width": null,
            "border": null,
            "align_items": null,
            "bottom": null,
            "_model_module": "@jupyter-widgets/base",
            "top": null,
            "grid_column": null,
            "overflow_y": null,
            "overflow_x": null,
            "grid_auto_flow": null,
            "grid_area": null,
            "grid_template_columns": null,
            "flex": null,
            "_model_name": "LayoutModel",
            "justify_items": null,
            "grid_row": null,
            "max_height": null,
            "align_content": null,
            "visibility": null,
            "align_self": null,
            "height": null,
            "min_height": null,
            "padding": null,
            "grid_auto_rows": null,
            "grid_gap": null,
            "max_width": null,
            "order": null,
            "_view_module_version": "1.2.0",
            "grid_template_areas": null,
            "object_position": null,
            "object_fit": null,
            "grid_auto_columns": null,
            "margin": null,
            "display": null,
            "left": null
          }
        },
        "91cfcde16f8e45edbf9e510ffb80d922": {
          "model_module": "@jupyter-widgets/controls",
          "model_name": "FloatProgressModel",
          "state": {
            "_view_name": "ProgressView",
            "style": "IPY_MODEL_f0bb8766c2344a10a6134ba658dd64f7",
            "_dom_classes": [],
            "description": "100%",
            "_model_name": "FloatProgressModel",
            "bar_style": "success",
            "max": 102502400,
            "_view_module": "@jupyter-widgets/controls",
            "_model_module_version": "1.5.0",
            "value": 102502400,
            "_view_count": null,
            "_view_module_version": "1.5.0",
            "orientation": "horizontal",
            "min": 0,
            "description_tooltip": null,
            "_model_module": "@jupyter-widgets/controls",
            "layout": "IPY_MODEL_36a0966a6fb74f0880494befeda334cb"
          }
        },
        "500de7d88f3a49dab661783a9efc4bea": {
          "model_module": "@jupyter-widgets/controls",
          "model_name": "HTMLModel",
          "state": {
            "_view_name": "HTMLView",
            "style": "IPY_MODEL_f613a53be6484c33a4dbf0dfc1b9da1d",
            "_dom_classes": [],
            "description": "",
            "_model_name": "HTMLModel",
            "placeholder": "​",
            "_view_module": "@jupyter-widgets/controls",
            "_model_module_version": "1.5.0",
            "value": " 97.8M/97.8M [00:04&lt;00:00, 25.2MB/s]",
            "_view_count": null,
            "_view_module_version": "1.5.0",
            "description_tooltip": null,
            "_model_module": "@jupyter-widgets/controls",
            "layout": "IPY_MODEL_8505c9eac031468fa3671db0a1b8e2a7"
          }
        },
        "f0bb8766c2344a10a6134ba658dd64f7": {
          "model_module": "@jupyter-widgets/controls",
          "model_name": "ProgressStyleModel",
          "state": {
            "_view_name": "StyleView",
            "_model_name": "ProgressStyleModel",
            "description_width": "initial",
            "_view_module": "@jupyter-widgets/base",
            "_model_module_version": "1.5.0",
            "_view_count": null,
            "_view_module_version": "1.2.0",
            "bar_color": null,
            "_model_module": "@jupyter-widgets/controls"
          }
        },
        "36a0966a6fb74f0880494befeda334cb": {
          "model_module": "@jupyter-widgets/base",
          "model_name": "LayoutModel",
          "state": {
            "_view_name": "LayoutView",
            "grid_template_rows": null,
            "right": null,
            "justify_content": null,
            "_view_module": "@jupyter-widgets/base",
            "overflow": null,
            "_model_module_version": "1.2.0",
            "_view_count": null,
            "flex_flow": null,
            "width": null,
            "min_width": null,
            "border": null,
            "align_items": null,
            "bottom": null,
            "_model_module": "@jupyter-widgets/base",
            "top": null,
            "grid_column": null,
            "overflow_y": null,
            "overflow_x": null,
            "grid_auto_flow": null,
            "grid_area": null,
            "grid_template_columns": null,
            "flex": null,
            "_model_name": "LayoutModel",
            "justify_items": null,
            "grid_row": null,
            "max_height": null,
            "align_content": null,
            "visibility": null,
            "align_self": null,
            "height": null,
            "min_height": null,
            "padding": null,
            "grid_auto_rows": null,
            "grid_gap": null,
            "max_width": null,
            "order": null,
            "_view_module_version": "1.2.0",
            "grid_template_areas": null,
            "object_position": null,
            "object_fit": null,
            "grid_auto_columns": null,
            "margin": null,
            "display": null,
            "left": null
          }
        },
        "f613a53be6484c33a4dbf0dfc1b9da1d": {
          "model_module": "@jupyter-widgets/controls",
          "model_name": "DescriptionStyleModel",
          "state": {
            "_view_name": "StyleView",
            "_model_name": "DescriptionStyleModel",
            "description_width": "",
            "_view_module": "@jupyter-widgets/base",
            "_model_module_version": "1.5.0",
            "_view_count": null,
            "_view_module_version": "1.2.0",
            "_model_module": "@jupyter-widgets/controls"
          }
        },
        "8505c9eac031468fa3671db0a1b8e2a7": {
          "model_module": "@jupyter-widgets/base",
          "model_name": "LayoutModel",
          "state": {
            "_view_name": "LayoutView",
            "grid_template_rows": null,
            "right": null,
            "justify_content": null,
            "_view_module": "@jupyter-widgets/base",
            "overflow": null,
            "_model_module_version": "1.2.0",
            "_view_count": null,
            "flex_flow": null,
            "width": null,
            "min_width": null,
            "border": null,
            "align_items": null,
            "bottom": null,
            "_model_module": "@jupyter-widgets/base",
            "top": null,
            "grid_column": null,
            "overflow_y": null,
            "overflow_x": null,
            "grid_auto_flow": null,
            "grid_area": null,
            "grid_template_columns": null,
            "flex": null,
            "_model_name": "LayoutModel",
            "justify_items": null,
            "grid_row": null,
            "max_height": null,
            "align_content": null,
            "visibility": null,
            "align_self": null,
            "height": null,
            "min_height": null,
            "padding": null,
            "grid_auto_rows": null,
            "grid_gap": null,
            "max_width": null,
            "order": null,
            "_view_module_version": "1.2.0",
            "grid_template_areas": null,
            "object_position": null,
            "object_fit": null,
            "grid_auto_columns": null,
            "margin": null,
            "display": null,
            "left": null
          }
        },
        "fd588002816549fdb53f01d980294082": {
          "model_module": "@jupyter-widgets/controls",
          "model_name": "HBoxModel",
          "state": {
            "_view_name": "HBoxView",
            "_dom_classes": [],
            "_model_name": "HBoxModel",
            "_view_module": "@jupyter-widgets/controls",
            "_model_module_version": "1.5.0",
            "_view_count": null,
            "_view_module_version": "1.5.0",
            "box_style": "",
            "layout": "IPY_MODEL_9d2df367b383451b94e794625e630760",
            "_model_module": "@jupyter-widgets/controls",
            "children": [
              "IPY_MODEL_5a32b8961d0741a9aa97710ed01526cd",
              "IPY_MODEL_f26745c44814480eab64913c684217dc"
            ]
          }
        },
        "9d2df367b383451b94e794625e630760": {
          "model_module": "@jupyter-widgets/base",
          "model_name": "LayoutModel",
          "state": {
            "_view_name": "LayoutView",
            "grid_template_rows": null,
            "right": null,
            "justify_content": null,
            "_view_module": "@jupyter-widgets/base",
            "overflow": null,
            "_model_module_version": "1.2.0",
            "_view_count": null,
            "flex_flow": null,
            "width": null,
            "min_width": null,
            "border": null,
            "align_items": null,
            "bottom": null,
            "_model_module": "@jupyter-widgets/base",
            "top": null,
            "grid_column": null,
            "overflow_y": null,
            "overflow_x": null,
            "grid_auto_flow": null,
            "grid_area": null,
            "grid_template_columns": null,
            "flex": null,
            "_model_name": "LayoutModel",
            "justify_items": null,
            "grid_row": null,
            "max_height": null,
            "align_content": null,
            "visibility": null,
            "align_self": null,
            "height": null,
            "min_height": null,
            "padding": null,
            "grid_auto_rows": null,
            "grid_gap": null,
            "max_width": null,
            "order": null,
            "_view_module_version": "1.2.0",
            "grid_template_areas": null,
            "object_position": null,
            "object_fit": null,
            "grid_auto_columns": null,
            "margin": null,
            "display": null,
            "left": null
          }
        },
        "5a32b8961d0741a9aa97710ed01526cd": {
          "model_module": "@jupyter-widgets/controls",
          "model_name": "FloatProgressModel",
          "state": {
            "_view_name": "ProgressView",
            "style": "IPY_MODEL_14c06dcf98c545c49b2750c57e2674ad",
            "_dom_classes": [],
            "description": "100%",
            "_model_name": "FloatProgressModel",
            "bar_style": "success",
            "max": 166618694,
            "_view_module": "@jupyter-widgets/controls",
            "_model_module_version": "1.5.0",
            "value": 166618694,
            "_view_count": null,
            "_view_module_version": "1.5.0",
            "orientation": "horizontal",
            "min": 0,
            "description_tooltip": null,
            "_model_module": "@jupyter-widgets/controls",
            "layout": "IPY_MODEL_2020582256d84324ba25dc42a2266e9a"
          }
        },
        "f26745c44814480eab64913c684217dc": {
          "model_module": "@jupyter-widgets/controls",
          "model_name": "HTMLModel",
          "state": {
            "_view_name": "HTMLView",
            "style": "IPY_MODEL_2bd879c139da4de88e938a5706b4dc39",
            "_dom_classes": [],
            "description": "",
            "_model_name": "HTMLModel",
            "placeholder": "​",
            "_view_module": "@jupyter-widgets/controls",
            "_model_module_version": "1.5.0",
            "value": " 159M/159M [00:02&lt;00:00, 65.9MB/s]",
            "_view_count": null,
            "_view_module_version": "1.5.0",
            "description_tooltip": null,
            "_model_module": "@jupyter-widgets/controls",
            "layout": "IPY_MODEL_51be1495c4b445b4888ccfab9651b2f9"
          }
        },
        "14c06dcf98c545c49b2750c57e2674ad": {
          "model_module": "@jupyter-widgets/controls",
          "model_name": "ProgressStyleModel",
          "state": {
            "_view_name": "StyleView",
            "_model_name": "ProgressStyleModel",
            "description_width": "initial",
            "_view_module": "@jupyter-widgets/base",
            "_model_module_version": "1.5.0",
            "_view_count": null,
            "_view_module_version": "1.2.0",
            "bar_color": null,
            "_model_module": "@jupyter-widgets/controls"
          }
        },
        "2020582256d84324ba25dc42a2266e9a": {
          "model_module": "@jupyter-widgets/base",
          "model_name": "LayoutModel",
          "state": {
            "_view_name": "LayoutView",
            "grid_template_rows": null,
            "right": null,
            "justify_content": null,
            "_view_module": "@jupyter-widgets/base",
            "overflow": null,
            "_model_module_version": "1.2.0",
            "_view_count": null,
            "flex_flow": null,
            "width": null,
            "min_width": null,
            "border": null,
            "align_items": null,
            "bottom": null,
            "_model_module": "@jupyter-widgets/base",
            "top": null,
            "grid_column": null,
            "overflow_y": null,
            "overflow_x": null,
            "grid_auto_flow": null,
            "grid_area": null,
            "grid_template_columns": null,
            "flex": null,
            "_model_name": "LayoutModel",
            "justify_items": null,
            "grid_row": null,
            "max_height": null,
            "align_content": null,
            "visibility": null,
            "align_self": null,
            "height": null,
            "min_height": null,
            "padding": null,
            "grid_auto_rows": null,
            "grid_gap": null,
            "max_width": null,
            "order": null,
            "_view_module_version": "1.2.0",
            "grid_template_areas": null,
            "object_position": null,
            "object_fit": null,
            "grid_auto_columns": null,
            "margin": null,
            "display": null,
            "left": null
          }
        },
        "2bd879c139da4de88e938a5706b4dc39": {
          "model_module": "@jupyter-widgets/controls",
          "model_name": "DescriptionStyleModel",
          "state": {
            "_view_name": "StyleView",
            "_model_name": "DescriptionStyleModel",
            "description_width": "",
            "_view_module": "@jupyter-widgets/base",
            "_model_module_version": "1.5.0",
            "_view_count": null,
            "_view_module_version": "1.2.0",
            "_model_module": "@jupyter-widgets/controls"
          }
        },
        "51be1495c4b445b4888ccfab9651b2f9": {
          "model_module": "@jupyter-widgets/base",
          "model_name": "LayoutModel",
          "state": {
            "_view_name": "LayoutView",
            "grid_template_rows": null,
            "right": null,
            "justify_content": null,
            "_view_module": "@jupyter-widgets/base",
            "overflow": null,
            "_model_module_version": "1.2.0",
            "_view_count": null,
            "flex_flow": null,
            "width": null,
            "min_width": null,
            "border": null,
            "align_items": null,
            "bottom": null,
            "_model_module": "@jupyter-widgets/base",
            "top": null,
            "grid_column": null,
            "overflow_y": null,
            "overflow_x": null,
            "grid_auto_flow": null,
            "grid_area": null,
            "grid_template_columns": null,
            "flex": null,
            "_model_name": "LayoutModel",
            "justify_items": null,
            "grid_row": null,
            "max_height": null,
            "align_content": null,
            "visibility": null,
            "align_self": null,
            "height": null,
            "min_height": null,
            "padding": null,
            "grid_auto_rows": null,
            "grid_gap": null,
            "max_width": null,
            "order": null,
            "_view_module_version": "1.2.0",
            "grid_template_areas": null,
            "object_position": null,
            "object_fit": null,
            "grid_auto_columns": null,
            "margin": null,
            "display": null,
            "left": null
          }
        }
      }
    }
  },
  "cells": [
    {
      "cell_type": "markdown",
      "metadata": {
        "id": "view-in-github",
        "colab_type": "text"
      },
      "source": [
        "<a href=\"https://colab.research.google.com/github/AdidasSuperstar/detr/blob/master/Object_detection_DETR_sugar_dataset.ipynb\" target=\"_parent\"><img src=\"https://colab.research.google.com/assets/colab-badge.svg\" alt=\"Open In Colab\"/></a>"
      ]
    },
    {
      "cell_type": "code",
      "metadata": {
        "collapsed": true,
        "id": "QoQuf2P-yrZc"
      },
      "source": [
        ""
      ],
      "execution_count": null,
      "outputs": []
    },
    {
      "cell_type": "code",
      "metadata": {
        "id": "59hDNlVfy8Fk",
        "colab": {
          "base_uri": "https://localhost:8080/"
        },
        "outputId": "aca86fb2-3c86-4c64-ad23-bd1a261fa1ff"
      },
      "source": [
        "! pip install GPutil"
      ],
      "execution_count": 5,
      "outputs": [
        {
          "output_type": "stream",
          "text": [
            "Collecting GPutil\n",
            "  Downloading https://files.pythonhosted.org/packages/ed/0e/5c61eedde9f6c87713e89d794f01e378cfd9565847d4576fa627d758c554/GPUtil-1.4.0.tar.gz\n",
            "Building wheels for collected packages: GPutil\n",
            "  Building wheel for GPutil (setup.py) ... \u001b[?25l\u001b[?25hdone\n",
            "  Created wheel for GPutil: filename=GPUtil-1.4.0-cp37-none-any.whl size=7411 sha256=1fd6ff78170ded5aff94408927ff9ea5c5a45e270782b1f8a103f88dded3a786\n",
            "  Stored in directory: /root/.cache/pip/wheels/3d/77/07/80562de4bb0786e5ea186911a2c831fdd0018bda69beab71fd\n",
            "Successfully built GPutil\n",
            "Installing collected packages: GPutil\n",
            "Successfully installed GPutil-1.4.0\n"
          ],
          "name": "stdout"
        }
      ]
    },
    {
      "cell_type": "code",
      "metadata": {
        "id": "t23NWTv9y_8w",
        "colab": {
          "base_uri": "https://localhost:8080/"
        },
        "outputId": "ef088434-41fe-4ba1-9bb5-f30a2a2010ab"
      },
      "source": [
        "# Mount your google drive in google colab\n",
        "from google.colab import drive\n",
        "drive.mount('/content/drive')"
      ],
      "execution_count": 1,
      "outputs": [
        {
          "output_type": "stream",
          "text": [
            "Mounted at /content/drive\n"
          ],
          "name": "stdout"
        }
      ]
    },
    {
      "cell_type": "code",
      "metadata": {
        "id": "9lly0WzCzAOG"
      },
      "source": [
        "# Insert the directory\n",
        "import sys\n",
        "sys.path.insert(0,'/content/My Drive/detr')"
      ],
      "execution_count": 2,
      "outputs": []
    },
    {
      "cell_type": "code",
      "metadata": {
        "id": "GtBBcgZh6VYf",
        "colab": {
          "base_uri": "https://localhost:8080/"
        },
        "outputId": "a999bc02-265c-4014-e38d-320217fb3ada"
      },
      "source": [
        "! pwd"
      ],
      "execution_count": 3,
      "outputs": [
        {
          "output_type": "stream",
          "text": [
            "/content\n"
          ],
          "name": "stdout"
        }
      ]
    },
    {
      "cell_type": "code",
      "metadata": {
        "id": "upyXiAyJ7Wvp",
        "colab": {
          "base_uri": "https://localhost:8080/"
        },
        "outputId": "150248b5-c08c-4197-c5f4-6a43ddae716f"
      },
      "source": [
        "%cd '/content/drive/My Drive/detr'\n"
      ],
      "execution_count": 4,
      "outputs": [
        {
          "output_type": "stream",
          "text": [
            "/content/drive/My Drive/detr\n"
          ],
          "name": "stdout"
        }
      ]
    },
    {
      "cell_type": "code",
      "metadata": {
        "id": "fwC1aaZw7esp",
        "colab": {
          "base_uri": "https://localhost:8080/"
        },
        "outputId": "30138c36-428e-4cb4-bf44-8f87b42e4e6c"
      },
      "source": [
        "! pwd"
      ],
      "execution_count": null,
      "outputs": [
        {
          "output_type": "stream",
          "text": [
            "/content/drive/My Drive/detr\n"
          ],
          "name": "stdout"
        }
      ]
    },
    {
      "cell_type": "code",
      "metadata": {
        "pycharm": {
          "name": "#%%\n"
        },
        "id": "hOGb-Hi5yrZd",
        "colab": {
          "base_uri": "https://localhost:8080/"
        },
        "outputId": "e4b8e064-825e-4126-968e-bcd6ddf1ce67"
      },
      "source": [
        "# Torch\n",
        "import torch\n",
        "import torch.nn as nn\n",
        "from torch.utils.data import Dataset,DataLoader\n",
        "from torch.utils.data.sampler import SequentialSampler, RandomSampler\n",
        "\n",
        "import GPUtil\n",
        "import os\n",
        "print(\"My working directory is: \" , os.getcwd())\n",
        "\n",
        "\n",
        "from models.matcher import HungarianMatcher\n",
        "from models.detr import SetCriterion\n",
        "\n",
        "import numpy as np\n",
        "import pandas as pd\n",
        "from datetime import datetime\n",
        "import time\n",
        "import random\n",
        "\n",
        "from tqdm import tqdm\n",
        "\n",
        "#sklearn\n",
        "from sklearn.model_selection import StratifiedKFold\n",
        "\n",
        "#CV\n",
        "import cv2\n",
        "\n",
        "#matplotlib\n",
        "import matplotlib.pyplot as plt\n",
        "\n",
        "#albumentations\n",
        "# import albumentations as A\n",
        "# not working in colab \n",
        "# from albumentations.pytorch.transforms import ToTensorV2\n",
        "\n",
        "#Glob\n",
        "from glob import glob"
      ],
      "execution_count": 8,
      "outputs": [
        {
          "output_type": "stream",
          "text": [
            "My working directory is:  /content/drive/My Drive/detr\n"
          ],
          "name": "stdout"
        }
      ]
    },
    {
      "cell_type": "code",
      "metadata": {
        "id": "p7cxHUPb3YYf",
        "colab": {
          "base_uri": "https://localhost:8080/"
        },
        "outputId": "873a07bb-f40e-48d1-d20c-af1a8fd6fb1b"
      },
      "source": [
        "! pip install albumentations==0.4.6"
      ],
      "execution_count": 6,
      "outputs": [
        {
          "output_type": "stream",
          "text": [
            "Collecting albumentations==0.4.6\n",
            "\u001b[?25l  Downloading https://files.pythonhosted.org/packages/92/33/1c459c2c9a4028ec75527eff88bc4e2d256555189f42af4baf4d7bd89233/albumentations-0.4.6.tar.gz (117kB)\n",
            "\u001b[K     |████████████████████████████████| 122kB 7.6MB/s \n",
            "\u001b[?25hRequirement already satisfied: numpy>=1.11.1 in /usr/local/lib/python3.7/dist-packages (from albumentations==0.4.6) (1.19.5)\n",
            "Requirement already satisfied: scipy in /usr/local/lib/python3.7/dist-packages (from albumentations==0.4.6) (1.4.1)\n",
            "Collecting imgaug>=0.4.0\n",
            "\u001b[?25l  Downloading https://files.pythonhosted.org/packages/66/b1/af3142c4a85cba6da9f4ebb5ff4e21e2616309552caca5e8acefe9840622/imgaug-0.4.0-py2.py3-none-any.whl (948kB)\n",
            "\u001b[K     |████████████████████████████████| 952kB 13.0MB/s \n",
            "\u001b[?25hRequirement already satisfied: PyYAML in /usr/local/lib/python3.7/dist-packages (from albumentations==0.4.6) (3.13)\n",
            "Requirement already satisfied: opencv-python>=4.1.1 in /usr/local/lib/python3.7/dist-packages (from albumentations==0.4.6) (4.1.2.30)\n",
            "Requirement already satisfied: matplotlib in /usr/local/lib/python3.7/dist-packages (from imgaug>=0.4.0->albumentations==0.4.6) (3.2.2)\n",
            "Requirement already satisfied: imageio in /usr/local/lib/python3.7/dist-packages (from imgaug>=0.4.0->albumentations==0.4.6) (2.4.1)\n",
            "Requirement already satisfied: Shapely in /usr/local/lib/python3.7/dist-packages (from imgaug>=0.4.0->albumentations==0.4.6) (1.7.1)\n",
            "Requirement already satisfied: Pillow in /usr/local/lib/python3.7/dist-packages (from imgaug>=0.4.0->albumentations==0.4.6) (7.1.2)\n",
            "Requirement already satisfied: six in /usr/local/lib/python3.7/dist-packages (from imgaug>=0.4.0->albumentations==0.4.6) (1.15.0)\n",
            "Requirement already satisfied: scikit-image>=0.14.2 in /usr/local/lib/python3.7/dist-packages (from imgaug>=0.4.0->albumentations==0.4.6) (0.16.2)\n",
            "Requirement already satisfied: kiwisolver>=1.0.1 in /usr/local/lib/python3.7/dist-packages (from matplotlib->imgaug>=0.4.0->albumentations==0.4.6) (1.3.1)\n",
            "Requirement already satisfied: cycler>=0.10 in /usr/local/lib/python3.7/dist-packages (from matplotlib->imgaug>=0.4.0->albumentations==0.4.6) (0.10.0)\n",
            "Requirement already satisfied: pyparsing!=2.0.4,!=2.1.2,!=2.1.6,>=2.0.1 in /usr/local/lib/python3.7/dist-packages (from matplotlib->imgaug>=0.4.0->albumentations==0.4.6) (2.4.7)\n",
            "Requirement already satisfied: python-dateutil>=2.1 in /usr/local/lib/python3.7/dist-packages (from matplotlib->imgaug>=0.4.0->albumentations==0.4.6) (2.8.1)\n",
            "Requirement already satisfied: networkx>=2.0 in /usr/local/lib/python3.7/dist-packages (from scikit-image>=0.14.2->imgaug>=0.4.0->albumentations==0.4.6) (2.5.1)\n",
            "Requirement already satisfied: PyWavelets>=0.4.0 in /usr/local/lib/python3.7/dist-packages (from scikit-image>=0.14.2->imgaug>=0.4.0->albumentations==0.4.6) (1.1.1)\n",
            "Requirement already satisfied: decorator<5,>=4.3 in /usr/local/lib/python3.7/dist-packages (from networkx>=2.0->scikit-image>=0.14.2->imgaug>=0.4.0->albumentations==0.4.6) (4.4.2)\n",
            "Building wheels for collected packages: albumentations\n",
            "  Building wheel for albumentations (setup.py) ... \u001b[?25l\u001b[?25hdone\n",
            "  Created wheel for albumentations: filename=albumentations-0.4.6-cp37-none-any.whl size=65175 sha256=c455c6ec60da5afcaa5763b909e6d119e2a399ee6fbaeae22b6bf02b330b01d7\n",
            "  Stored in directory: /root/.cache/pip/wheels/c7/f4/89/56d1bee5c421c36c1a951eeb4adcc32fbb82f5344c086efa14\n",
            "Successfully built albumentations\n",
            "Installing collected packages: imgaug, albumentations\n",
            "  Found existing installation: imgaug 0.2.9\n",
            "    Uninstalling imgaug-0.2.9:\n",
            "      Successfully uninstalled imgaug-0.2.9\n",
            "  Found existing installation: albumentations 0.1.12\n",
            "    Uninstalling albumentations-0.1.12:\n",
            "      Successfully uninstalled albumentations-0.1.12\n",
            "Successfully installed albumentations-0.4.6 imgaug-0.4.0\n"
          ],
          "name": "stdout"
        }
      ]
    },
    {
      "cell_type": "code",
      "metadata": {
        "id": "nHgPRyo83cSk"
      },
      "source": [
        "#albumentations\n",
        "import albumentations as A\n",
        "# not working in colab \n",
        "from albumentations.pytorch.transforms import ToTensorV2"
      ],
      "execution_count": 7,
      "outputs": []
    },
    {
      "cell_type": "code",
      "metadata": {
        "pycharm": {
          "name": "#%%\n"
        },
        "id": "fCVV19YxyrZe"
      },
      "source": [
        "class AverageMeter(object):\n",
        "    \"\"\"Computes and stores the average and current value\"\"\"\n",
        "    def __init__(self):\n",
        "        self.reset()\n",
        "\n",
        "    def reset(self):\n",
        "        self.val = 0\n",
        "        self.avg = 0\n",
        "        self.sum = 0\n",
        "        self.count = 0\n",
        "\n",
        "    def update(self, val, n=1):\n",
        "        self.val = val\n",
        "        self.sum += val * n\n",
        "        self.count += n\n",
        "        self.avg = self.sum / self.count\n",
        "\n",
        "### CONFIGURATION -- Basic configuration for this model\n",
        "n_folds = 3\n",
        "seed = 42\n",
        "num_classes = 2 #changed this \n",
        "num_queries = 100\n",
        "null_class_coef = 0.5\n",
        "BATCH_SIZE = 2 #8\n",
        "LR = 2e-5\n",
        "EPOCHS = 2 #2\n",
        "\n",
        "### SEED - for reproducible results\n",
        "def seed_everything(seed):\n",
        "    random.seed(seed)\n",
        "    os.environ['PYTHONHASHSEED'] = str(seed)\n",
        "    np.random.seed(seed)\n",
        "    torch.manual_seed(seed)\n",
        "    torch.cuda.manual_seed(seed)\n",
        "    torch.backends.cudnn.deterministic = True\n",
        "    torch.backends.cudnn.benchmark = True\n",
        "\n",
        "seed_everything(seed)"
      ],
      "execution_count": 10,
      "outputs": []
    },
    {
      "cell_type": "code",
      "metadata": {
        "colab": {
          "base_uri": "https://localhost:8080/",
          "height": 200
        },
        "id": "HUXJjfQdWG3C",
        "outputId": "8580bed0-87ad-4742-c61f-1c9e75f46c68"
      },
      "source": [
        "marking = pd.read_csv('/content/drive/My Drive/detr/Sugar_Dataset_f1_June8_920_final.csv')\n",
        "marking.columns\n",
        "marking.shape\n",
        "marking.head()"
      ],
      "execution_count": 12,
      "outputs": [
        {
          "output_type": "execute_result",
          "data": {
            "text/html": [
              "<div>\n",
              "<style scoped>\n",
              "    .dataframe tbody tr th:only-of-type {\n",
              "        vertical-align: middle;\n",
              "    }\n",
              "\n",
              "    .dataframe tbody tr th {\n",
              "        vertical-align: top;\n",
              "    }\n",
              "\n",
              "    .dataframe thead th {\n",
              "        text-align: right;\n",
              "    }\n",
              "</style>\n",
              "<table border=\"1\" class=\"dataframe\">\n",
              "  <thead>\n",
              "    <tr style=\"text-align: right;\">\n",
              "      <th></th>\n",
              "      <th>Unnamed: 0</th>\n",
              "      <th>bbox</th>\n",
              "      <th>image_id</th>\n",
              "      <th>category</th>\n",
              "      <th>name</th>\n",
              "    </tr>\n",
              "  </thead>\n",
              "  <tbody>\n",
              "    <tr>\n",
              "      <th>0</th>\n",
              "      <td>0</td>\n",
              "      <td>[534, 593, 148, 130]</td>\n",
              "      <td>0</td>\n",
              "      <td>1</td>\n",
              "      <td>bonirob_2016-05-23-10-37-10_0_frame100</td>\n",
              "    </tr>\n",
              "    <tr>\n",
              "      <th>1</th>\n",
              "      <td>1</td>\n",
              "      <td>[531, 1, 225, 204]</td>\n",
              "      <td>0</td>\n",
              "      <td>1</td>\n",
              "      <td>bonirob_2016-05-23-10-37-10_0_frame100</td>\n",
              "    </tr>\n",
              "    <tr>\n",
              "      <th>2</th>\n",
              "      <td>2</td>\n",
              "      <td>[501, 753, 224, 206]</td>\n",
              "      <td>1</td>\n",
              "      <td>1</td>\n",
              "      <td>bonirob_2016-05-23-10-37-10_0_frame101</td>\n",
              "    </tr>\n",
              "    <tr>\n",
              "      <th>3</th>\n",
              "      <td>3</td>\n",
              "      <td>[586, 353, 251, 328]</td>\n",
              "      <td>2</td>\n",
              "      <td>1</td>\n",
              "      <td>bonirob_2016-05-23-10-37-10_0_frame102</td>\n",
              "    </tr>\n",
              "    <tr>\n",
              "      <th>4</th>\n",
              "      <td>4</td>\n",
              "      <td>[492, 1, 229, 131]</td>\n",
              "      <td>2</td>\n",
              "      <td>1</td>\n",
              "      <td>bonirob_2016-05-23-10-37-10_0_frame102</td>\n",
              "    </tr>\n",
              "  </tbody>\n",
              "</table>\n",
              "</div>"
            ],
            "text/plain": [
              "   Unnamed: 0  ...                                    name\n",
              "0           0  ...  bonirob_2016-05-23-10-37-10_0_frame100\n",
              "1           1  ...  bonirob_2016-05-23-10-37-10_0_frame100\n",
              "2           2  ...  bonirob_2016-05-23-10-37-10_0_frame101\n",
              "3           3  ...  bonirob_2016-05-23-10-37-10_0_frame102\n",
              "4           4  ...  bonirob_2016-05-23-10-37-10_0_frame102\n",
              "\n",
              "[5 rows x 5 columns]"
            ]
          },
          "metadata": {
            "tags": []
          },
          "execution_count": 12
        }
      ]
    },
    {
      "cell_type": "code",
      "metadata": {
        "colab": {
          "base_uri": "https://localhost:8080/"
        },
        "id": "qzfuWPx429uU",
        "outputId": "fe7681de-5006-4d57-e65d-109f5bd53264"
      },
      "source": [
        "marking['image_id'].nunique()"
      ],
      "execution_count": 13,
      "outputs": [
        {
          "output_type": "execute_result",
          "data": {
            "text/plain": [
              "921"
            ]
          },
          "metadata": {
            "tags": []
          },
          "execution_count": 13
        }
      ]
    },
    {
      "cell_type": "code",
      "metadata": {
        "pycharm": {
          "name": "#%%\n"
        },
        "id": "y8Ts-F4eyrZe",
        "colab": {
          "base_uri": "https://localhost:8080/"
        },
        "outputId": "91213716-4b41-4be6-ea44-28a458858f83"
      },
      "source": [
        "### DATA PREP\n",
        "marking = pd.read_csv('/content/drive/My Drive/detr/Sugar_Dataset_f1_June8_920_final.csv')\n",
        "\n",
        "bboxs = np.stack(marking['bbox'].apply(lambda x: np.fromstring(x[1:-1], sep=',')))\n",
        "for i, column in enumerate(['x', 'y', 'w', 'h']):\n",
        "    marking[column] = bboxs[:,i]\n",
        "marking.drop(columns=['bbox'], inplace=True)\n",
        "\n",
        "# Creating Folds\n",
        "skf = StratifiedKFold(n_splits=n_folds, shuffle=True, random_state=seed)\n",
        "\n",
        "df_folds = marking[['name']].copy()\n",
        "df_folds.loc[:, 'bbox_count'] = 1\n",
        "df_folds = df_folds.groupby('name').count()\n",
        "df_folds.loc[:, 'source'] = marking[['name', 'category']].groupby('name').min()['category']\n",
        "df_folds.loc[:, 'stratify_group'] = np.char.add(\n",
        "    df_folds['source'].values.astype(str),\n",
        "    df_folds['bbox_count'].apply(lambda x: f'_{x // 15}').values.astype(str)\n",
        ")\n",
        "df_folds.loc[:, 'fold'] = 0\n",
        "\n",
        "for fold_number, (train_index, val_index) in enumerate(skf.split(X=df_folds.index, y=df_folds['stratify_group'])):\n",
        "    df_folds.loc[df_folds.iloc[val_index].index, 'fold'] = fold_number\n",
        "\n",
        "#print(n_folds) #5\n",
        "#print(fold_number) #4 #what is this? Really?? Just a column in the bloody dataset??!\n",
        "#print(df_folds.head())\n",
        "\n",
        "#check GPU utilization\n",
        "#GPUtil.showUtilization()"
      ],
      "execution_count": 15,
      "outputs": [
        {
          "output_type": "stream",
          "text": [
            "/usr/local/lib/python3.7/dist-packages/sklearn/model_selection/_split.py:667: UserWarning: The least populated class in y has only 1 members, which is less than n_splits=3.\n",
            "  % (min_groups, self.n_splits)), UserWarning)\n"
          ],
          "name": "stderr"
        }
      ]
    },
    {
      "cell_type": "code",
      "metadata": {
        "colab": {
          "base_uri": "https://localhost:8080/",
          "height": 235
        },
        "id": "bJS9g7DYvs33",
        "outputId": "bb314abe-6f84-4455-a573-179fc363fd0f"
      },
      "source": [
        "df_folds.head()"
      ],
      "execution_count": null,
      "outputs": [
        {
          "output_type": "execute_result",
          "data": {
            "text/html": [
              "<div>\n",
              "<style scoped>\n",
              "    .dataframe tbody tr th:only-of-type {\n",
              "        vertical-align: middle;\n",
              "    }\n",
              "\n",
              "    .dataframe tbody tr th {\n",
              "        vertical-align: top;\n",
              "    }\n",
              "\n",
              "    .dataframe thead th {\n",
              "        text-align: right;\n",
              "    }\n",
              "</style>\n",
              "<table border=\"1\" class=\"dataframe\">\n",
              "  <thead>\n",
              "    <tr style=\"text-align: right;\">\n",
              "      <th></th>\n",
              "      <th>bbox_count</th>\n",
              "      <th>source</th>\n",
              "      <th>stratify_group</th>\n",
              "      <th>fold</th>\n",
              "    </tr>\n",
              "    <tr>\n",
              "      <th>name</th>\n",
              "      <th></th>\n",
              "      <th></th>\n",
              "      <th></th>\n",
              "      <th></th>\n",
              "    </tr>\n",
              "  </thead>\n",
              "  <tbody>\n",
              "    <tr>\n",
              "      <th>sugar_f1_170912_01_subImages_2_frame100__0_ulr0_ulc0.png</th>\n",
              "      <td>18</td>\n",
              "      <td>1</td>\n",
              "      <td>1_1</td>\n",
              "      <td>1</td>\n",
              "    </tr>\n",
              "    <tr>\n",
              "      <th>sugar_f1_170912_01_subImages_2_frame100__10_ulr768_ulc0.png</th>\n",
              "      <td>27</td>\n",
              "      <td>1</td>\n",
              "      <td>1_1</td>\n",
              "      <td>0</td>\n",
              "    </tr>\n",
              "    <tr>\n",
              "      <th>sugar_f1_170912_01_subImages_2_frame100__11_ulr768_ulc512.png</th>\n",
              "      <td>25</td>\n",
              "      <td>1</td>\n",
              "      <td>1_1</td>\n",
              "      <td>1</td>\n",
              "    </tr>\n",
              "    <tr>\n",
              "      <th>sugar_f1_170912_01_subImages_2_frame100__12_ulr768_ulc1024.png</th>\n",
              "      <td>20</td>\n",
              "      <td>1</td>\n",
              "      <td>1_1</td>\n",
              "      <td>2</td>\n",
              "    </tr>\n",
              "    <tr>\n",
              "      <th>sugar_f1_170912_01_subImages_2_frame100__13_ulr768_ulc1536.png</th>\n",
              "      <td>20</td>\n",
              "      <td>1</td>\n",
              "      <td>1_1</td>\n",
              "      <td>1</td>\n",
              "    </tr>\n",
              "  </tbody>\n",
              "</table>\n",
              "</div>"
            ],
            "text/plain": [
              "                                                    bbox_count  ...  fold\n",
              "name                                                            ...      \n",
              "sugar_f1_170912_01_subImages_2_frame100__0_ulr0...          18  ...     1\n",
              "sugar_f1_170912_01_subImages_2_frame100__10_ulr...          27  ...     0\n",
              "sugar_f1_170912_01_subImages_2_frame100__11_ulr...          25  ...     1\n",
              "sugar_f1_170912_01_subImages_2_frame100__12_ulr...          20  ...     2\n",
              "sugar_f1_170912_01_subImages_2_frame100__13_ulr...          20  ...     1\n",
              "\n",
              "[5 rows x 4 columns]"
            ]
          },
          "metadata": {
            "tags": []
          },
          "execution_count": 12
        }
      ]
    },
    {
      "cell_type": "code",
      "metadata": {
        "colab": {
          "base_uri": "https://localhost:8080/"
        },
        "id": "L8g5DTy_2sJD",
        "outputId": "41ea8eb2-eb3d-4467-c2f4-5fde85253db2"
      },
      "source": [
        "df_folds.shape"
      ],
      "execution_count": null,
      "outputs": [
        {
          "output_type": "execute_result",
          "data": {
            "text/plain": [
              "(400, 4)"
            ]
          },
          "metadata": {
            "tags": []
          },
          "execution_count": 14
        }
      ]
    },
    {
      "cell_type": "code",
      "metadata": {
        "pycharm": {
          "name": "#%%\n"
        },
        "id": "OZNKfG1XyrZf",
        "colab": {
          "base_uri": "https://localhost:8080/"
        },
        "outputId": "f1bedab2-bed3-48a8-8e40-1c0417a0dcd9"
      },
      "source": [
        "###AUGMENTATIONS\n",
        "def get_train_transforms():\n",
        "    return A.Compose(\n",
        "        [A.OneOf([A.HueSaturationValue(hue_shift_limit=0.2, sat_shift_limit=0.2, val_shift_limit=0.2, p=0.9),\n",
        "\n",
        "                  A.RandomBrightnessContrast(brightness_limit=0.2, contrast_limit=0.2, p=0.9)], p=0.9),\n",
        "\n",
        "         A.ToGray(p=0.01),\n",
        "\n",
        "         A.HorizontalFlip(p=0.5),\n",
        "\n",
        "         A.VerticalFlip(p=0.5),\n",
        "\n",
        "         A.Resize(height=256, width=256, p=1), #height 512, width 512 \n",
        "\n",
        "         A.Cutout(num_holes=8, max_h_size=64, max_w_size=64, fill_value=0, p=0.5),\n",
        "\n",
        "         ToTensorV2(p=1.0)],\n",
        "\n",
        "        p=1.0,\n",
        "\n",
        "        bbox_params=A.BboxParams(format='coco', min_area=0, min_visibility=0, label_fields=['labels'])\n",
        "        )\n",
        "\n",
        "\n",
        "def get_valid_transforms():\n",
        "    return A.Compose([\n",
        "                      A.Resize(height=512, width=512, p=1.0),\n",
        "                      ToTensorV2(p=1.0)],\n",
        "                     p=1.0,\n",
        "                     bbox_params=A.BboxParams(format='coco', min_area=0, min_visibility=0, label_fields=['labels'])\n",
        "                     )\n",
        "\n",
        "print (\"So far so good\") #A.Resize(height=512, width=512, p=1.0),\n",
        "###CREATE DATASET\n",
        "DIR_TRAIN = \"/content/drive/My Drive/detr/models/F1_minus_60\" #1361 images\n"
      ],
      "execution_count": 16,
      "outputs": [
        {
          "output_type": "stream",
          "text": [
            "So far so good\n"
          ],
          "name": "stdout"
        }
      ]
    },
    {
      "cell_type": "code",
      "metadata": {
        "id": "aFJcrgV_zy20"
      },
      "source": [
        "import fnmatch"
      ],
      "execution_count": 17,
      "outputs": []
    },
    {
      "cell_type": "code",
      "metadata": {
        "colab": {
          "base_uri": "https://localhost:8080/"
        },
        "id": "WJy127AhzRDp",
        "outputId": "717ef55e-1e84-4983-dad1-20f1b87cc207"
      },
      "source": [
        "def filter_for_png(root, files):\n",
        "    return [path for path in (os.path.join(root, f) for f in files) if fnmatch.fnmatch(path, \"*.png\")]\n",
        "\n",
        "#get files names\n",
        "for root, _, files in os.walk(DIR_TRAIN):\n",
        "    image_files_EVA = filter_for_png(root, files)\n",
        "\n",
        "print(len(image_files_EVA))\n"
      ],
      "execution_count": 18,
      "outputs": [
        {
          "output_type": "stream",
          "text": [
            "921\n"
          ],
          "name": "stdout"
        }
      ]
    },
    {
      "cell_type": "code",
      "metadata": {
        "colab": {
          "base_uri": "https://localhost:8080/"
        },
        "id": "u6pUFUud21Kp",
        "outputId": "4eb1e8a8-9afb-4e17-d02e-0e36b951b84a"
      },
      "source": [
        "def filter_for_png2(root, files):\n",
        "    return [path for path in (os.path.join(root, f) for f in files) if fnmatch.fnmatch(path, \"*.PNG\")]\n",
        "\n",
        "#get files names\n",
        "for root, _, files in os.walk(DIR_TRAIN):\n",
        "    image_files_EVA2 = filter_for_png2(root, files)\n",
        "\n",
        "print(len(image_files_EVA2))\n"
      ],
      "execution_count": null,
      "outputs": [
        {
          "output_type": "stream",
          "text": [
            "0\n"
          ],
          "name": "stdout"
        }
      ]
    },
    {
      "cell_type": "code",
      "metadata": {
        "colab": {
          "base_uri": "https://localhost:8080/"
        },
        "id": "C1hlo5d4z8gu",
        "outputId": "1e9bb834-5121-4e71-ca40-de4b76f82d05"
      },
      "source": [
        "print(image_files_EVA[-1])"
      ],
      "execution_count": null,
      "outputs": [
        {
          "output_type": "stream",
          "text": [
            "/content/drive/My Drive/detr/models/rgb/bonirob_2016-05-23-10-52-28_3_frame94.png\n"
          ],
          "name": "stdout"
        }
      ]
    },
    {
      "cell_type": "code",
      "metadata": {
        "colab": {
          "base_uri": "https://localhost:8080/"
        },
        "id": "DCfqLzVq3K0G",
        "outputId": "acae0047-7c4d-46ee-a332-62eaaaca226d"
      },
      "source": [
        "my_img = cv2.imread(\"/content/drive/My Drive/detr/models/rgb2/sugar_f1_170912_01_subImages_2_frame80__10_ulr768_ulc0.png\")\n",
        "my_img = cv2.cvtColor(my_img, cv2.COLOR_BGR2RGB).astype(np.float32)\n",
        "#plt.imshow(my_img)\n",
        "\n",
        "print(my_img)\n",
        "print(type(my_img))\n",
        "print(my_img.shape) #(966, 1296, 3) and (384,512,3) for 2nd folder"
      ],
      "execution_count": null,
      "outputs": [
        {
          "output_type": "stream",
          "text": [
            "[[[192. 168. 134.]\n",
            "  [187. 163. 130.]\n",
            "  [194. 170. 136.]\n",
            "  ...\n",
            "  [ 82.  65.  22.]\n",
            "  [122.  99.  58.]\n",
            "  [166. 140. 104.]]\n",
            "\n",
            " [[173. 148. 117.]\n",
            "  [190. 165. 134.]\n",
            "  [193. 168. 138.]\n",
            "  ...\n",
            "  [103.  84.  43.]\n",
            "  [157. 135.  96.]\n",
            "  [187. 163. 126.]]\n",
            "\n",
            " [[168. 143. 113.]\n",
            "  [192. 167. 136.]\n",
            "  [205. 180. 149.]\n",
            "  ...\n",
            "  [138. 119.  79.]\n",
            "  [173. 151. 112.]\n",
            "  [182. 161. 123.]]\n",
            "\n",
            " ...\n",
            "\n",
            " [[211. 215. 167.]\n",
            "  [188. 193. 143.]\n",
            "  [173. 182. 129.]\n",
            "  ...\n",
            "  [134. 107.  79.]\n",
            "  [133. 106.  78.]\n",
            "  [124.  97.  69.]]\n",
            "\n",
            " [[193. 196. 147.]\n",
            "  [177. 183. 132.]\n",
            "  [173. 181. 127.]\n",
            "  ...\n",
            "  [125.  98.  71.]\n",
            "  [127. 100.  73.]\n",
            "  [129. 102.  75.]]\n",
            "\n",
            " [[177. 184. 131.]\n",
            "  [177. 184. 131.]\n",
            "  [174. 185. 127.]\n",
            "  ...\n",
            "  [121.  94.  67.]\n",
            "  [127. 100.  73.]\n",
            "  [138. 111.  84.]]]\n",
            "<class 'numpy.ndarray'>\n",
            "(384, 512, 3)\n"
          ],
          "name": "stdout"
        }
      ]
    },
    {
      "cell_type": "code",
      "metadata": {
        "pycharm": {
          "name": "#%%\n"
        },
        "id": "PAztI6RRyrZg",
        "colab": {
          "base_uri": "https://localhost:8080/"
        },
        "outputId": "855dec4d-1852-4c70-b814-72aaf7792bf4"
      },
      "source": [
        "class WheatDataset(Dataset):\n",
        "    def __init__(self, image_ids, dataframe, transforms=None):\n",
        "        self.image_ids = image_ids\n",
        "        self.df = dataframe\n",
        "        self.transforms = transforms\n",
        "\n",
        "    def __len__(self) -> int:\n",
        "        return self.image_ids.shape[0]\n",
        "\n",
        "    def __getitem__(self, index):\n",
        "        image_id = self.image_ids[index]\n",
        "        records = self.df[self.df['name'] == image_id]\n",
        "        \n",
        "        image = cv2.imread(f'{DIR_TRAIN}/{image_id}.png') #, cv2.IMREAD_COLOR\n",
        "        if image is not None:\n",
        "          image = cv2.cvtColor(image, cv2.COLOR_BGR2RGB).astype(np.float32)\n",
        "          image /= 255.0\n",
        "\n",
        "          # DETR takes in data in coco format\n",
        "          boxes = records[['x', 'y', 'w', 'h']].values\n",
        "\n",
        "          # Area of bb\n",
        "          area = boxes[:, 2] * boxes[:, 3]\n",
        "          area = torch.as_tensor(area, dtype=torch.float32)\n",
        "\n",
        "         # AS pointed out by PRVI It works better if the main class is labelled as zero\n",
        "          labels = np.zeros(len(boxes), dtype=np.int32)\n",
        "\n",
        "          if self.transforms:\n",
        "            sample = {\n",
        "                'image': image,\n",
        "                'bboxes': boxes,\n",
        "                'labels': labels\n",
        "            }\n",
        "            sample = self.transforms(**sample)\n",
        "            image = sample['image']\n",
        "            boxes = sample['bboxes']\n",
        "            labels = sample['labels']\n",
        "\n",
        "        # Normalizing BBOXES\n",
        "\n",
        "          _, h, w = image.shape\n",
        "          boxes = A.augmentations.bbox_utils.normalize_bboxes(sample['bboxes'], rows=h, cols=w)\n",
        "          target = {}\n",
        "          target['boxes'] = torch.as_tensor(boxes, dtype=torch.float32)\n",
        "          target['labels'] = torch.as_tensor(labels, dtype=torch.long)\n",
        "          target['image_id'] = torch.tensor([index])\n",
        "          target['area'] = area\n",
        "\n",
        "          return image, target, image_id\n",
        "\n",
        "print(\"So far so good  - part 2\")\n",
        "\n",
        "#check GPU utilization\n",
        "#GPUtil.showUtilization()"
      ],
      "execution_count": 19,
      "outputs": [
        {
          "output_type": "stream",
          "text": [
            "So far so good  - part 2\n"
          ],
          "name": "stdout"
        }
      ]
    },
    {
      "cell_type": "code",
      "metadata": {
        "pycharm": {
          "name": "#%%\n"
        },
        "id": "uvdnz2LByrZg"
      },
      "source": [
        "###MODEL\n",
        "class DETRModel(nn.Module):\n",
        "    def __init__(self, num_classes, num_queries):\n",
        "        super(DETRModel, self).__init__()\n",
        "        self.num_classes = num_classes\n",
        "        self.num_queries = num_queries\n",
        "\n",
        "        self.model = torch.hub.load('facebookresearch/detr', 'detr_resnet50', pretrained=True)\n",
        "        self.in_features = self.model.class_embed.in_features\n",
        "\n",
        "        self.model.class_embed = nn.Linear(in_features=self.in_features, out_features=self.num_classes)\n",
        "        self.model.num_queries = self.num_queries\n",
        "\n",
        "    def forward(self, images):\n",
        "        return self.model(images)"
      ],
      "execution_count": 20,
      "outputs": []
    },
    {
      "cell_type": "code",
      "metadata": {
        "id": "x4isbmx183Lf"
      },
      "source": [
        "from models.matcher import HungarianMatcher"
      ],
      "execution_count": null,
      "outputs": []
    },
    {
      "cell_type": "code",
      "metadata": {
        "pycharm": {
          "name": "#%%\n"
        },
        "id": "DgMOOr-fyrZh"
      },
      "source": [
        "###Matcher and Bipartite Matching Loss\n",
        "'''\n",
        "code taken from github repo detr , 'code present in engine.py'\n",
        "'''\n",
        "\n",
        "matcher = HungarianMatcher()\n",
        "\n",
        "weight_dict = weight_dict = {'loss_ce': 1, 'loss_bbox': 1 , 'loss_giou': 1}\n",
        "\n",
        "losses = ['labels', 'boxes', 'cardinality']"
      ],
      "execution_count": 21,
      "outputs": []
    },
    {
      "cell_type": "code",
      "metadata": {
        "pycharm": {
          "name": "#%%\n"
        },
        "id": "QzGnbhwCyrZh"
      },
      "source": [
        "### Training Function\n",
        "def train_fn(data_loader, model, criterion, optimizer, device, scheduler, epoch):\n",
        "    model.train()\n",
        "    criterion.train()\n",
        "\n",
        "    summary_loss = AverageMeter()\n",
        "\n",
        "    tk0 = tqdm(data_loader, total=len(data_loader))\n",
        "\n",
        "    for step, (images, targets, image_ids) in enumerate(tk0):\n",
        "\n",
        "        images = list(image.to(device) for image in images)\n",
        "        targets = [{k: v.to(device) for k, v in t.items()} for t in targets]\n",
        "\n",
        "        output = model(images)\n",
        "\n",
        "        loss_dict = criterion(output, targets)\n",
        "        weight_dict = criterion.weight_dict\n",
        "\n",
        "        losses = sum(loss_dict[k] * weight_dict[k] for k in loss_dict.keys() if k in weight_dict)\n",
        "\n",
        "        optimizer.zero_grad()\n",
        "\n",
        "        losses.backward()\n",
        "        optimizer.step()\n",
        "        if scheduler is not None:\n",
        "            scheduler.step()\n",
        "\n",
        "        summary_loss.update(losses.item(), BATCH_SIZE)\n",
        "        tk0.set_postfix(loss=summary_loss.avg)\n",
        "\n",
        "    return summary_loss"
      ],
      "execution_count": 22,
      "outputs": []
    },
    {
      "cell_type": "code",
      "metadata": {
        "id": "jx32XWfWBNBi"
      },
      "source": [
        "def eval_fn(data_loader, model,criterion, device):\n",
        "    model.eval()\n",
        "    criterion.eval()\n",
        "    summary_loss = AverageMeter()\n",
        "    \n",
        "    with torch.no_grad():\n",
        "        \n",
        "        tk0 = tqdm(data_loader, total=len(data_loader))\n",
        "        for step, (images, targets, image_ids) in enumerate(tk0):\n",
        "            \n",
        "            images = list(image.to(device) for image in images)\n",
        "            targets = [{k: v.to(device) for k, v in t.items()} for t in targets]\n",
        "\n",
        "            output = model(images)\n",
        "        \n",
        "            loss_dict = criterion(output, targets)\n",
        "            weight_dict = criterion.weight_dict\n",
        "        \n",
        "            losses = sum(loss_dict[k] * weight_dict[k] for k in loss_dict.keys() if k in weight_dict)\n",
        "            \n",
        "            summary_loss.update(losses.item(),BATCH_SIZE)\n",
        "            tk0.set_postfix(loss=summary_loss.avg)\n",
        "    \n",
        "    return summary_loss"
      ],
      "execution_count": 23,
      "outputs": []
    },
    {
      "cell_type": "code",
      "metadata": {
        "pycharm": {
          "name": "#%%\n"
        },
        "id": "2UrN8h4JyrZi"
      },
      "source": [
        "### Engine\n",
        "def collate_fn(batch):\n",
        "    return tuple(zip(*batch))\n",
        "\n",
        "#check GPU utilization\n",
        "#GPUtil.showUtilization()"
      ],
      "execution_count": 24,
      "outputs": []
    },
    {
      "cell_type": "code",
      "metadata": {
        "id": "AJ82LBskjtC7"
      },
      "source": [
        "df_tr = df_folds[df_folds['fold'] != 0]\n",
        "  \n",
        "\n",
        "#train_dataset = WheatDataset(image_ids=df_train.index.values, dataframe=marking, transforms=get_train_transforms())\n",
        "\n",
        "#print(type(train_dataset))"
      ],
      "execution_count": null,
      "outputs": []
    },
    {
      "cell_type": "code",
      "metadata": {
        "colab": {
          "base_uri": "https://localhost:8080/",
          "height": 235
        },
        "id": "EY6VgsUBkQir",
        "outputId": "da7f8294-35f5-48a3-dc3a-d61ce1490a56"
      },
      "source": [
        "df_tr.tail()"
      ],
      "execution_count": null,
      "outputs": [
        {
          "output_type": "execute_result",
          "data": {
            "text/html": [
              "<div>\n",
              "<style scoped>\n",
              "    .dataframe tbody tr th:only-of-type {\n",
              "        vertical-align: middle;\n",
              "    }\n",
              "\n",
              "    .dataframe tbody tr th {\n",
              "        vertical-align: top;\n",
              "    }\n",
              "\n",
              "    .dataframe thead th {\n",
              "        text-align: right;\n",
              "    }\n",
              "</style>\n",
              "<table border=\"1\" class=\"dataframe\">\n",
              "  <thead>\n",
              "    <tr style=\"text-align: right;\">\n",
              "      <th></th>\n",
              "      <th>bbox_count</th>\n",
              "      <th>source</th>\n",
              "      <th>stratify_group</th>\n",
              "      <th>fold</th>\n",
              "    </tr>\n",
              "    <tr>\n",
              "      <th>name</th>\n",
              "      <th></th>\n",
              "      <th></th>\n",
              "      <th></th>\n",
              "      <th></th>\n",
              "    </tr>\n",
              "  </thead>\n",
              "  <tbody>\n",
              "    <tr>\n",
              "      <th>sugar_f1_170912_01_subImages_2_frame90__4_ulr0_ulc2048</th>\n",
              "      <td>13</td>\n",
              "      <td>1</td>\n",
              "      <td>1_0</td>\n",
              "      <td>2</td>\n",
              "    </tr>\n",
              "    <tr>\n",
              "      <th>sugar_f1_170912_01_subImages_2_frame90__5_ulr384_ulc0</th>\n",
              "      <td>16</td>\n",
              "      <td>1</td>\n",
              "      <td>1_1</td>\n",
              "      <td>4</td>\n",
              "    </tr>\n",
              "    <tr>\n",
              "      <th>sugar_f1_170912_01_subImages_2_frame90__6_ulr384_ulc512</th>\n",
              "      <td>11</td>\n",
              "      <td>1</td>\n",
              "      <td>1_0</td>\n",
              "      <td>3</td>\n",
              "    </tr>\n",
              "    <tr>\n",
              "      <th>sugar_f1_170912_01_subImages_2_frame90__7_ulr384_ulc1024</th>\n",
              "      <td>20</td>\n",
              "      <td>1</td>\n",
              "      <td>1_1</td>\n",
              "      <td>4</td>\n",
              "    </tr>\n",
              "    <tr>\n",
              "      <th>sugar_f1_170912_01_subImages_2_frame90__9_ulr384_ulc2048</th>\n",
              "      <td>22</td>\n",
              "      <td>1</td>\n",
              "      <td>1_1</td>\n",
              "      <td>4</td>\n",
              "    </tr>\n",
              "  </tbody>\n",
              "</table>\n",
              "</div>"
            ],
            "text/plain": [
              "                                                    bbox_count  ...  fold\n",
              "name                                                            ...      \n",
              "sugar_f1_170912_01_subImages_2_frame90__4_ulr0_...          13  ...     2\n",
              "sugar_f1_170912_01_subImages_2_frame90__5_ulr38...          16  ...     4\n",
              "sugar_f1_170912_01_subImages_2_frame90__6_ulr38...          11  ...     3\n",
              "sugar_f1_170912_01_subImages_2_frame90__7_ulr38...          20  ...     4\n",
              "sugar_f1_170912_01_subImages_2_frame90__9_ulr38...          22  ...     4\n",
              "\n",
              "[5 rows x 4 columns]"
            ]
          },
          "metadata": {
            "tags": []
          },
          "execution_count": 176
        }
      ]
    },
    {
      "cell_type": "code",
      "metadata": {
        "pycharm": {
          "name": "#%%\n"
        },
        "id": "wROMbBSGyrZi"
      },
      "source": [
        "def run(fold):\n",
        "    df_train = df_folds[df_folds['fold'] != fold]\n",
        "    df_valid = df_folds[df_folds['fold'] == fold]\n",
        "\n",
        "    train_dataset = WheatDataset(\n",
        "        image_ids=df_train.index.values,\n",
        "        dataframe=marking,\n",
        "        transforms=get_train_transforms()\n",
        "    )\n",
        "\n",
        "    valid_dataset = WheatDataset(\n",
        "        image_ids=df_valid.index.values,\n",
        "        dataframe=marking,\n",
        "        transforms=get_valid_transforms()\n",
        "    )\n",
        "\n",
        "    train_data_loader = DataLoader(\n",
        "        train_dataset,\n",
        "        batch_size=BATCH_SIZE,\n",
        "        shuffle=False,\n",
        "        num_workers=1, #1\n",
        "        collate_fn=collate_fn\n",
        "    )\n",
        "\n",
        "    valid_data_loader = DataLoader(\n",
        "        valid_dataset,\n",
        "        batch_size=BATCH_SIZE,\n",
        "        shuffle=False,\n",
        "        num_workers=1, #1\n",
        "        collate_fn=collate_fn\n",
        "    )\n",
        "\n",
        "    device = torch.device('cuda:0')\n",
        "    model = DETRModel(num_classes=num_classes, num_queries=num_queries)\n",
        "    model = model.to(device)\n",
        "    criterion = SetCriterion(num_classes - 1, matcher, weight_dict, eos_coef=null_class_coef, losses=losses)\n",
        "    criterion = criterion.to(device)\n",
        "\n",
        "    optimizer = torch.optim.AdamW(model.parameters(), lr=LR)\n",
        "\n",
        "    best_loss = 10 ** 5\n",
        "    for epoch in range(EPOCHS):\n",
        "        train_loss = train_fn(train_data_loader, model, criterion, optimizer, device, scheduler=None, epoch=epoch)\n",
        "        valid_loss = eval_fn(valid_data_loader, model, criterion, device)\n",
        "\n",
        "        print('|EPOCH {}| TRAIN_LOSS {}| VALID_LOSS {}|'.format(epoch + 1, train_loss.avg, valid_loss.avg))\n",
        "\n",
        "        if valid_loss.avg < best_loss:\n",
        "            best_loss = valid_loss.avg\n",
        "            print('Best model sugar found for Fold {} in Epoch {}........Saving Model'.format(fold, epoch + 1))\n",
        "            torch.save(model.state_dict(), f'detr_best_{fold}.pth')\n",
        "\n"
      ],
      "execution_count": 25,
      "outputs": []
    },
    {
      "cell_type": "code",
      "metadata": {
        "pycharm": {
          "name": "#%%\n"
        },
        "id": "Kjmf2tJCyrZi",
        "colab": {
          "base_uri": "https://localhost:8080/",
          "height": 276,
          "referenced_widgets": [
            "5877e2d178e54b49afd1f2272c16bccc",
            "d2093b8f81764945922302d7b191a24c",
            "91cfcde16f8e45edbf9e510ffb80d922",
            "500de7d88f3a49dab661783a9efc4bea",
            "f0bb8766c2344a10a6134ba658dd64f7",
            "36a0966a6fb74f0880494befeda334cb",
            "f613a53be6484c33a4dbf0dfc1b9da1d",
            "8505c9eac031468fa3671db0a1b8e2a7",
            "fd588002816549fdb53f01d980294082",
            "9d2df367b383451b94e794625e630760",
            "5a32b8961d0741a9aa97710ed01526cd",
            "f26745c44814480eab64913c684217dc",
            "14c06dcf98c545c49b2750c57e2674ad",
            "2020582256d84324ba25dc42a2266e9a",
            "2bd879c139da4de88e938a5706b4dc39",
            "51be1495c4b445b4888ccfab9651b2f9"
          ]
        },
        "outputId": "8284c96c-77ae-40a1-e2a5-76962aa7fa68"
      },
      "source": [
        "run(fold=0)\n",
        "# model = run(fold=0)\n",
        "# model.cuda()\n",
        "\n"
      ],
      "execution_count": 26,
      "outputs": [
        {
          "output_type": "stream",
          "text": [
            "Downloading: \"https://github.com/facebookresearch/detr/archive/master.zip\" to /root/.cache/torch/hub/master.zip\n",
            "Downloading: \"https://download.pytorch.org/models/resnet50-19c8e357.pth\" to /root/.cache/torch/hub/checkpoints/resnet50-19c8e357.pth\n"
          ],
          "name": "stderr"
        },
        {
          "output_type": "display_data",
          "data": {
            "application/vnd.jupyter.widget-view+json": {
              "model_id": "5877e2d178e54b49afd1f2272c16bccc",
              "version_minor": 0,
              "version_major": 2
            },
            "text/plain": [
              "HBox(children=(FloatProgress(value=0.0, max=102502400.0), HTML(value='')))"
            ]
          },
          "metadata": {
            "tags": []
          }
        },
        {
          "output_type": "stream",
          "text": [
            "\n"
          ],
          "name": "stdout"
        },
        {
          "output_type": "stream",
          "text": [
            "Downloading: \"https://dl.fbaipublicfiles.com/detr/detr-r50-e632da11.pth\" to /root/.cache/torch/hub/checkpoints/detr-r50-e632da11.pth\n"
          ],
          "name": "stderr"
        },
        {
          "output_type": "display_data",
          "data": {
            "application/vnd.jupyter.widget-view+json": {
              "model_id": "fd588002816549fdb53f01d980294082",
              "version_minor": 0,
              "version_major": 2
            },
            "text/plain": [
              "HBox(children=(FloatProgress(value=0.0, max=166618694.0), HTML(value='')))"
            ]
          },
          "metadata": {
            "tags": []
          }
        },
        {
          "output_type": "stream",
          "text": [
            "\n"
          ],
          "name": "stdout"
        },
        {
          "output_type": "stream",
          "text": [
            "100%|██████████| 307/307 [08:17<00:00,  1.62s/it, loss=1.89]\n",
            "100%|██████████| 154/154 [03:55<00:00,  1.53s/it, loss=1.85]\n"
          ],
          "name": "stderr"
        },
        {
          "output_type": "stream",
          "text": [
            "|EPOCH 1| TRAIN_LOSS 1.885093492483083| VALID_LOSS 1.8523416751390929|\n",
            "Best model sugar found for Fold 0 in Epoch 1........Saving Model\n"
          ],
          "name": "stdout"
        },
        {
          "output_type": "stream",
          "text": [
            "100%|██████████| 307/307 [00:54<00:00,  5.58it/s, loss=1.81]\n",
            "100%|██████████| 154/154 [00:16<00:00,  9.40it/s, loss=1.92]"
          ],
          "name": "stderr"
        },
        {
          "output_type": "stream",
          "text": [
            "|EPOCH 2| TRAIN_LOSS 1.8129677368685944| VALID_LOSS 1.9171111630154896|\n"
          ],
          "name": "stdout"
        },
        {
          "output_type": "stream",
          "text": [
            "\n"
          ],
          "name": "stderr"
        }
      ]
    },
    {
      "cell_type": "code",
      "metadata": {
        "id": "1wcoHzceE2o1"
      },
      "source": [
        "def view_sample(df_valid, model):\n",
        "    '''\n",
        "    Code taken from Peter's Kernel\n",
        "    https://www.kaggle.com/pestipeti/pytorch-starter-fasterrcnn-train\n",
        "    '''\n",
        "    valid_dataset = WheatDataset(image_ids=df_valid.index.values,\n",
        "                                 dataframe=marking,\n",
        "                                 transforms=get_valid_transforms()\n",
        "                                 )\n",
        "\n",
        "    valid_data_loader = DataLoader(\n",
        "        valid_dataset,\n",
        "        batch_size=BATCH_SIZE,\n",
        "        shuffle=False,\n",
        "        num_workers=1,\n",
        "        collate_fn=collate_fn)\n",
        "\n",
        "    images, targets, image_ids = next(iter(valid_data_loader))\n",
        "    _, h, w = images[0].shape  # for de normalizing images\n",
        "\n",
        "    #images = list(img.to(device) for img in images)\n",
        "    #targets = [{k: v.to(device) for k, v in t.items()} for t in targets]\n",
        "\n",
        "    images = list(img for img in images)\n",
        "    targets = [{k: v for k, v in t.items()} for t in targets]\n",
        "\n",
        "    boxes = targets[0]['boxes'].cpu().numpy()\n",
        "    boxes = [np.array(box).astype(np.int32) for box in A.augmentations.bbox_utils.denormalize_bboxes(boxes, h, w)]\n",
        "    sample = images[0].permute(1, 2, 0).cpu().numpy()\n",
        "\n",
        "    model.eval()\n",
        "    #model.to(device)\n",
        "    #cpu_device = torch.device(\"cpu\")\n",
        "\n",
        "    with torch.no_grad():\n",
        "        outputs = model(images)\n",
        "\n",
        "    outputs = [{k: v for k, v in outputs.items()}]\n",
        "\n",
        "    fig, ax = plt.subplots(1, 1, figsize=(16, 8))\n",
        "\n",
        "    #real data is red\n",
        "    for box in boxes:\n",
        "        cv2.rectangle(sample,\n",
        "                      (box[0], box[1]),\n",
        "                      (box[2] + box[0], box[3] + box[1]),\n",
        "                      (220, 0, 0), 1)\n",
        "\n",
        "    #oboxes = outputs[0]['pred_boxes'][0].detach().cpu().numpy()\n",
        "    oboxes = outputs[0]['pred_boxes'][0].detach().numpy()\n",
        "    oboxes = [np.array(box).astype(np.int32) for box in A.augmentations.bbox_utils.denormalize_bboxes(oboxes, h, w)]\n",
        "    #prob = outputs[0]['pred_logits'][0].softmax(1).detach().cpu().numpy()[:, 0]\n",
        "    prob = outputs[0]['pred_logits'][0].softmax(1).detach().numpy()[:, 0]\n",
        "\n",
        "    # predictions are blue \n",
        "    for box, p in zip(oboxes, prob):\n",
        "\n",
        "        if p > 0.5:\n",
        "            # color = (0, 0, 220)\n",
        "            color = (255, 255, 0)  # if p>0.5 else (0,0,0)\n",
        "            cv2.rectangle(sample,\n",
        "                          (box[0], box[1]),\n",
        "                          (box[2] + box[0], box[3] + box[1]),\n",
        "                          color, 1)\n",
        "\n",
        "    ax.set_axis_off()\n",
        "    ax.imshow(sample)\n",
        "    #ax.imshow((sample * 255).astype(np.uint8))\n",
        "    # fig.show() -- this plus edited ax.imshow shows image, but no bounding boxes\n",
        "    # plt.imshow((out * 255).astype(np.uint8))\n",
        "\n",
        "\n"
      ],
      "execution_count": 27,
      "outputs": []
    },
    {
      "cell_type": "code",
      "metadata": {
        "id": "7W489FYZGYsF",
        "colab": {
          "base_uri": "https://localhost:8080/",
          "height": 498
        },
        "outputId": "a4165973-a3e8-4723-b3b8-bb61329dfba1"
      },
      "source": [
        "model = DETRModel(num_classes=num_classes,num_queries=num_queries)\n",
        "model.load_state_dict(torch.load(\"./detr_best_0.pth\"))\n",
        "view_sample(df_folds[df_folds['fold'] == 0],model=model)"
      ],
      "execution_count": 28,
      "outputs": [
        {
          "output_type": "stream",
          "text": [
            "Using cache found in /root/.cache/torch/hub/facebookresearch_detr_master\n",
            "Clipping input data to the valid range for imshow with RGB data ([0..1] for floats or [0..255] for integers).\n"
          ],
          "name": "stderr"
        },
        {
          "output_type": "display_data",
          "data": {
            "image/png": "[encoded data removed]",
            "text/plain": [
              "<Figure size 1152x576 with 1 Axes>"
            ]
          },
          "metadata": {
            "tags": [],
            "needs_background": "light"
          }
        }
      ]
    }
  ]
}